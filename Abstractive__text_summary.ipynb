{
  "nbformat": 4,
  "nbformat_minor": 0,
  "metadata": {
    "colab": {
      "provenance": [],
      "gpuType": "T4"
    },
    "kernelspec": {
      "name": "python3",
      "display_name": "Python 3"
    },
    "language_info": {
      "name": "python"
    },
    "accelerator": "GPU"
  },
  "cells": [
    {
      "cell_type": "markdown",
      "source": [
        "Abstractive text summary generation"
      ],
      "metadata": {
        "id": "oRuXu7u5Sz0Q"
      }
    },
    {
      "cell_type": "code",
      "execution_count": 23,
      "metadata": {
        "id": "ctUlC8McDOQ9"
      },
      "outputs": [],
      "source": [
        "# !pip install -U -q transformers datasets sentencepiece"
      ]
    },
    {
      "cell_type": "code",
      "source": [
        "# Load pre-trained T5 model and tokenizer\n",
        "tokenizer = T5Tokenizer.from_pretrained(\"t5-base\")\n",
        "model = T5ForConditionalGeneration.from_pretrained(\"t5-base\")"
      ],
      "metadata": {
        "id": "08L1h-BsOGw9"
      },
      "execution_count": 24,
      "outputs": []
    },
    {
      "cell_type": "code",
      "source": [
        "text = \"\"\"\n",
        "Abstractive summarization is the process of shortening a set of data computationally to create a summary that conveys the most important information.\n",
        "It can generate entirely new phrases, reword, or interpret the content in its own way.\n",
        "\"\"\""
      ],
      "metadata": {
        "id": "flSpFNKlOGzV"
      },
      "execution_count": 25,
      "outputs": []
    },
    {
      "cell_type": "code",
      "source": [
        "# Define user word limit (e.g., 50 words)\n",
        "word_limit = 120\n",
        "token_limit = int(word_limit * 1.3)\n"
      ],
      "metadata": {
        "id": "yS_JkiAMOG2b"
      },
      "execution_count": 26,
      "outputs": []
    },
    {
      "cell_type": "code",
      "source": [
        "# Preprocess input\n",
        "input_text = \"summarize: \" + text.strip()\n",
        "input_ids = tokenizer.encode(input_text, return_tensors=\"pt\", max_length=512, truncation=True)"
      ],
      "metadata": {
        "id": "LDoeZiyqOG5z"
      },
      "execution_count": 27,
      "outputs": []
    },
    {
      "cell_type": "code",
      "source": [
        "def summarize_text(text, word_limit):\n",
        "    token_limit = int(word_limit * 1.3)\n",
        "    input_text = \"summarize: \" + text.strip()\n",
        "    input_ids = tokenizer.encode(input_text, return_tensors=\"pt\", max_length=512, truncation=True)\n",
        "\n",
        "    summary_ids = model.generate(\n",
        "        input_ids,\n",
        "        max_length=token_limit,\n",
        "        min_length=int(token_limit * 0.5),\n",
        "        length_penalty=2.0,\n",
        "        num_beams=4,\n",
        "        early_stopping=True\n",
        "    )\n",
        "\n",
        "    summary = tokenizer.decode(summary_ids[0], skip_special_tokens=True)\n",
        "    return summary"
      ],
      "metadata": {
        "id": "yV6cjfPIWTz3"
      },
      "execution_count": 28,
      "outputs": []
    },
    {
      "cell_type": "code",
      "source": [
        "import gradio as gr"
      ],
      "metadata": {
        "id": "sdkReSNOG7s5"
      },
      "execution_count": 29,
      "outputs": []
    },
    {
      "cell_type": "code",
      "source": [
        "gr.Interface(\n",
        "    fn=summarize_text,\n",
        "    inputs=[\n",
        "        gr.Textbox(label=\"Enter Text\", lines=10, placeholder=\"Paste text here...\"),\n",
        "        gr.Slider(20, 150, value=60, step=10, label=\"Word Limit\")\n",
        "    ],\n",
        "    outputs=gr.Textbox(label=\"Generated Summary\"),\n",
        "    title=\"Abstractive Text Summarizer\",\n",
        "    description=\"Enter a long paragraph and choose your desired summary word limit.\"\n",
        ").launch()"
      ],
      "metadata": {
        "colab": {
          "base_uri": "https://localhost:8080/",
          "height": 646
        },
        "id": "3Q6mIcYoHF-F",
        "outputId": "0e27611b-b1d6-4b25-93b7-2740a110b6f1"
      },
      "execution_count": 30,
      "outputs": [
        {
          "output_type": "stream",
          "name": "stdout",
          "text": [
            "It looks like you are running Gradio on a hosted a Jupyter notebook. For the Gradio app to work, sharing must be enabled. Automatically setting `share=True` (you can turn this off by setting `share=False` in `launch()` explicitly).\n",
            "\n",
            "Colab notebook detected. To show errors in colab notebook, set debug=True in launch()\n",
            "* Running on public URL: https://663a62d7eb8ac79875.gradio.live\n",
            "\n",
            "This share link expires in 1 week. For free permanent hosting and GPU upgrades, run `gradio deploy` from the terminal in the working directory to deploy to Hugging Face Spaces (https://huggingface.co/spaces)\n"
          ]
        },
        {
          "output_type": "display_data",
          "data": {
            "text/plain": [
              "<IPython.core.display.HTML object>"
            ],
            "text/html": [
              "<div><iframe src=\"https://663a62d7eb8ac79875.gradio.live\" width=\"100%\" height=\"500\" allow=\"autoplay; camera; microphone; clipboard-read; clipboard-write;\" frameborder=\"0\" allowfullscreen></iframe></div>"
            ]
          },
          "metadata": {}
        },
        {
          "output_type": "execute_result",
          "data": {
            "text/plain": []
          },
          "metadata": {},
          "execution_count": 30
        }
      ]
    },
    {
      "cell_type": "code",
      "source": [],
      "metadata": {
        "id": "s3c-P53hWZBu"
      },
      "execution_count": 30,
      "outputs": []
    }
  ]
}